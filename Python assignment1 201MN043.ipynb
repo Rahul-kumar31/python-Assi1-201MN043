{
 "cells": [
  {
   "cell_type": "markdown",
   "metadata": {},
   "source": [
    "# 201MN043"
   ]
  },
  {
   "cell_type": "markdown",
   "metadata": {},
   "source": [
    "Q1"
   ]
  },
  {
   "cell_type": "code",
   "execution_count": 1,
   "metadata": {},
   "outputs": [
    {
     "name": "stdout",
     "output_type": "stream",
     "text": [
      "(12.3+4j)\n"
     ]
    }
   ],
   "source": [
    "a=7.3\n",
    "b=5+4j\n",
    "print(a+b)"
   ]
  },
  {
   "cell_type": "code",
   "execution_count": 2,
   "metadata": {},
   "outputs": [
    {
     "data": {
      "text/plain": [
       "True"
      ]
     },
     "execution_count": 2,
     "metadata": {},
     "output_type": "execute_result"
    }
   ],
   "source": [
    "a=4e4\n",
    "b=4E4\n",
    "a==b"
   ]
  },
  {
   "cell_type": "code",
   "execution_count": 3,
   "metadata": {},
   "outputs": [
    {
     "name": "stdout",
     "output_type": "stream",
     "text": [
      "3.0 5.0\n"
     ]
    }
   ],
   "source": [
    "import cmath\n",
    "c=3+5j\n",
    "r=c.real\n",
    "i=c.imag\n",
    "print(r,i)"
   ]
  },
  {
   "cell_type": "code",
   "execution_count": 4,
   "metadata": {},
   "outputs": [
    {
     "data": {
      "text/plain": [
       "2"
      ]
     },
     "execution_count": 4,
     "metadata": {},
     "output_type": "execute_result"
    }
   ],
   "source": [
    "import numpy as np\n",
    "import math\n",
    "a=np.exp(1)\n",
    "b=math.trunc(a)\n",
    "b\n"
   ]
  },
  {
   "cell_type": "markdown",
   "metadata": {},
   "source": [
    "Q2"
   ]
  },
  {
   "cell_type": "code",
   "execution_count": 5,
   "metadata": {},
   "outputs": [],
   "source": [
    "def dictionary_func(d):\n",
    "  for x in d:\n",
    "    print(\"key:\", x, \"value is\" ,d[x])"
   ]
  },
  {
   "cell_type": "code",
   "execution_count": 6,
   "metadata": {},
   "outputs": [
    {
     "name": "stdout",
     "output_type": "stream",
     "text": [
      "key: a value is 1\n",
      "key: b value is 2\n",
      "key: c value is 3\n",
      "key: d value is 4\n"
     ]
    }
   ],
   "source": [
    "d={'a':1,'b':2,'c':3,'d':4}\n",
    "dictionary_func(d)"
   ]
  },
  {
   "cell_type": "markdown",
   "metadata": {},
   "source": [
    "Q3"
   ]
  },
  {
   "cell_type": "code",
   "execution_count": 7,
   "metadata": {},
   "outputs": [
    {
     "name": "stdout",
     "output_type": "stream",
     "text": [
      "enter a number10\n",
      "factorial of the given number is 3628800\n"
     ]
    }
   ],
   "source": [
    "value=input(\"enter a number\")\n",
    "a=int(value)\n",
    "factorial=1\n",
    "if a==0:\n",
    "  print('The factorial of 0 is 1 ')\n",
    "elif a < 0:\n",
    "  print(\"No factorial exists for given number\")\n",
    "elif a>0:\n",
    "  for x in range(1,a+1):\n",
    "    factorial=factorial*x\n",
    "  print(\"factorial of the given number is {}\".format(factorial))"
   ]
  },
  {
   "cell_type": "markdown",
   "metadata": {},
   "source": [
    "Q4"
   ]
  },
  {
   "cell_type": "code",
   "execution_count": 8,
   "metadata": {},
   "outputs": [
    {
     "name": "stdout",
     "output_type": "stream",
     "text": [
      "Enter a number10\n"
     ]
    },
    {
     "data": {
      "text/plain": [
       "55"
      ]
     },
     "execution_count": 8,
     "metadata": {},
     "output_type": "execute_result"
    }
   ],
   "source": [
    "x=input(\"Enter a number\")\n",
    "a=int(x)\n",
    "def Fibonacci(a):\n",
    "  if a<0:\n",
    "    return(\"Incorrect input\")\n",
    "  elif a==0:\n",
    "    return 0\n",
    "  elif a==1 or a==2:\n",
    "    return 1\n",
    "  elif a >0:\n",
    "    return Fibonacci(a-1) + Fibonacci(a-2)\n",
    "Fibonacci(a)"
   ]
  },
  {
   "cell_type": "markdown",
   "metadata": {},
   "source": [
    "Q5"
   ]
  },
  {
   "cell_type": "code",
   "execution_count": 9,
   "metadata": {},
   "outputs": [
    {
     "name": "stdout",
     "output_type": "stream",
     "text": [
      "10\n",
      "-83\n",
      "Negative\n"
     ]
    }
   ],
   "source": [
    "import numpy as np\n",
    "a=np.array([1,2,3,4,-5,-75,-3])\n",
    "b=0\n",
    "c=0\n",
    "for x in a:\n",
    "  if x>0:\n",
    "    b=b+x\n",
    "\n",
    "    \n",
    "  elif x<0:\n",
    "    c=c+x\n",
    "print(b)\n",
    "print(c)\n",
    "if b> abs(c):\n",
    "  print(\"Positive\")\n",
    "else:\n",
    "  print(\"Negative\")"
   ]
  },
  {
   "cell_type": "markdown",
   "metadata": {},
   "source": [
    "Q6"
   ]
  },
  {
   "cell_type": "code",
   "execution_count": 10,
   "metadata": {},
   "outputs": [
    {
     "name": "stdout",
     "output_type": "stream",
     "text": [
      "aioeuenfmdsjlghvdchyyqdsvk\n"
     ]
    }
   ],
   "source": [
    "a='nfamdsjlioghvdcheyyuqdsvke'\n",
    "l1=[]\n",
    "l2=[]\n",
    "for x in a:\n",
    "  if x=='a' or x=='e' or x=='i' or x=='o' or x=='u':\n",
    "    l1.append(x)\n",
    "  else:\n",
    "    l2.append(x)\n",
    "vowels=''\n",
    "consonants=''\n",
    "for b in l1:\n",
    "  vowels+=b\n",
    "for c in l2:\n",
    "  consonants+=c\n",
    "print(vowels+consonants)"
   ]
  },
  {
   "cell_type": "markdown",
   "metadata": {},
   "source": [
    "Q7"
   ]
  },
  {
   "cell_type": "code",
   "execution_count": 11,
   "metadata": {},
   "outputs": [],
   "source": [
    "# finding Multiples (first 5 of 50)\n",
    "def multiple(m,n):\n",
    "  a=range(n,(m*n)+1,n)\n",
    "  print(*a)"
   ]
  },
  {
   "cell_type": "code",
   "execution_count": 12,
   "metadata": {},
   "outputs": [
    {
     "name": "stdout",
     "output_type": "stream",
     "text": [
      "50 100 150 200 250\n"
     ]
    }
   ],
   "source": [
    "multiple(5,50)"
   ]
  },
  {
   "cell_type": "markdown",
   "metadata": {},
   "source": [
    "# THANK YOU"
   ]
  },
  {
   "cell_type": "code",
   "execution_count": null,
   "metadata": {},
   "outputs": [],
   "source": []
  }
 ],
 "metadata": {
  "kernelspec": {
   "display_name": "Python 3",
   "language": "python",
   "name": "python3"
  },
  "language_info": {
   "codemirror_mode": {
    "name": "ipython",
    "version": 3
   },
   "file_extension": ".py",
   "mimetype": "text/x-python",
   "name": "python",
   "nbconvert_exporter": "python",
   "pygments_lexer": "ipython3",
   "version": "3.7.3"
  }
 },
 "nbformat": 4,
 "nbformat_minor": 2
}
